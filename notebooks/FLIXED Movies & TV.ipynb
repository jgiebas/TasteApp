{
 "cells": [
  {
   "cell_type": "markdown",
   "metadata": {},
   "source": [
    "Breakdown of wallet btwn streaming svs and how we should prioritize api connectivity....\n",
    "\n",
    "https://www.businessofapps.com/data/video-streaming-app-market/"
   ]
  },
  {
   "cell_type": "code",
   "execution_count": 2,
   "metadata": {},
   "outputs": [],
   "source": [
    "import requests"
   ]
  },
  {
   "cell_type": "code",
   "execution_count": 1,
   "metadata": {},
   "outputs": [],
   "source": [
    "FLIXED_API_KEY = \"6z21okKDyPBR4g8lhENj3SiCtqgAWY2V\""
   ]
  },
  {
   "cell_type": "code",
   "execution_count": 24,
   "metadata": {},
   "outputs": [],
   "source": [
    "## Get map of streaming provider Name to FLIXED ID\n",
    "URL    = \"https://api.flixed.io/v1/streaming-providers/\"\n",
    "PARAMS = {'region': 'US', 'apiKey': FLIXED_API_KEY}\n",
    "\n",
    "r = requests.get( url = URL, params = PARAMS )"
   ]
  },
  {
   "cell_type": "code",
   "execution_count": 30,
   "metadata": {},
   "outputs": [
    {
     "data": {
      "text/plain": [
       "{'Netflix': 10008,\n",
       " 'Funimation': 10010,\n",
       " 'Fubo TV': 10011,\n",
       " 'Tubi': 299144,\n",
       " 'iTunes': 459291}"
      ]
     },
     "execution_count": 30,
     "metadata": {},
     "output_type": "execute_result"
    }
   ],
   "source": [
    "provider_to_id_map"
   ]
  },
  {
   "cell_type": "code",
   "execution_count": 32,
   "metadata": {},
   "outputs": [],
   "source": [
    "provider    = \"Netflix\"\n",
    "provider_id = provider_to_id_map[ provider ]\n",
    "URL2 = \"https://api.flixed.io/v1/streaming-providers/{}/titles?region={}&apiKey={}\"\n",
    "r2 = requests.get( URL2.format( provider_id, 'US', FLIXED_API_KEY ) )"
   ]
  },
  {
   "cell_type": "code",
   "execution_count": 39,
   "metadata": {},
   "outputs": [],
   "source": [
    "nflx_movies = r2.json()['movies']"
   ]
  },
  {
   "cell_type": "code",
   "execution_count": 44,
   "metadata": {},
   "outputs": [
    {
     "data": {
      "text/plain": [
       "[14503, 250239, 249845, 21772, 24944]"
      ]
     },
     "execution_count": 44,
     "metadata": {},
     "output_type": "execute_result"
    }
   ],
   "source": [
    "nflx_movies[:5]"
   ]
  },
  {
   "cell_type": "code",
   "execution_count": null,
   "metadata": {},
   "outputs": [],
   "source": []
  },
  {
   "cell_type": "code",
   "execution_count": 54,
   "metadata": {},
   "outputs": [],
   "source": [
    "URL3 = \"https://api.flixed.io/v1/movies/{}?apiKey={}\"\n",
    "r3 = requests.get( URL3.format( nflx_movies[17], FLIXED_API_KEY ) )"
   ]
  },
  {
   "cell_type": "code",
   "execution_count": 55,
   "metadata": {},
   "outputs": [
    {
     "data": {
      "text/plain": [
       "{'id': 229962,\n",
       " 'title': 'Troy',\n",
       " 'language': 'en',\n",
       " 'posterPath': 'https://image.tmdb.org/t/p/w500/a07wLy4ONfpsjnBqMwhlWTJTcm.jpg',\n",
       " 'region': 'US',\n",
       " 'releaseDate': '05/03/2004',\n",
       " 'runtimeMins': 163,\n",
       " 'overview': 'In year 1250 B.C. during the late Bronze age, two emerging nations begin to clash. Paris, the Trojan prince, convinces Helen, Queen of Sparta, to leave her husband Menelaus, and sail with him back to Troy. After Menelaus finds out that his wife was taken by the Trojans, he asks his brother Agamemnom to help him get her back. Agamemnon sees this as an opportunity for power. So they set off with 1,000 ships holding 50,000 Greeks to Troy. With the help of Achilles, the Greeks are able to fight the never before defeated Trojans.',\n",
       " 'genres': ['Adventure', 'History', 'War', 'Action'],\n",
       " 'externalIds': [{'id': 652,\n",
       "   'dbName': 'TMDB',\n",
       "   'url': 'https://www.themoviedb.org/movie/652-troy',\n",
       "   'posterPath': 'https://image.tmdb.org/t/p/w500/a07wLy4ONfpsjnBqMwhlWTJTcm.jpg'},\n",
       "  {'id': 332452,\n",
       "   'dbName': 'IMDB',\n",
       "   'url': 'https://www.imdb.com/title/tt0332452/'}],\n",
       " 'watchAvailability': [{'contentId': '60034571',\n",
       "   'id': 10008,\n",
       "   'directUrls': ['https://www.netflix.com/watch/60034571'],\n",
       "   'monetizationType': 'SUBSCRIPTION',\n",
       "   'price': None,\n",
       "   'currency': None}]}"
      ]
     },
     "execution_count": 55,
     "metadata": {},
     "output_type": "execute_result"
    }
   ],
   "source": [
    "r3.json()"
   ]
  },
  {
   "cell_type": "code",
   "execution_count": 56,
   "metadata": {},
   "outputs": [],
   "source": [
    "imdb_id = 332452\n",
    "r4 = requests.get( \n",
    "     \"https://api.flixed.io/v1/search/titles?imdbId={}&apiKey={}\".format( imdb_id , FLIXED_API_KEY ) \n",
    ")"
   ]
  },
  {
   "cell_type": "markdown",
   "metadata": {},
   "source": [
    "# RapidAPI for nflx streaming...\n",
    "\n",
    "Just not sure exactly what other svcs can be used with this api linker, i.e. hbo, amzn, etc. "
   ]
  },
  {
   "cell_type": "code",
   "execution_count": 11,
   "metadata": {},
   "outputs": [],
   "source": [
    "import requests\n",
    "import json"
   ]
  },
  {
   "cell_type": "code",
   "execution_count": 58,
   "metadata": {},
   "outputs": [],
   "source": [
    "import requests\n",
    "\n",
    "def query_nflx_titles( query_str ):\n",
    "    rapid_key = \"87ad3d59d5mshf5cff835735954fp1e41ccjsn352c17fd7077\"\n",
    "    host      = \"netflix54.p.rapidapi.com\"\n",
    "    base_url  = \"https://{}/\".format( host )\n",
    "    search_ep = \"search/\"\n",
    "\n",
    "    querystring = {\n",
    "        \"query\"            : query_str,\n",
    "        \"offset\"           : \"0\",\n",
    "        \"limit_titles\"     : \"50\",\n",
    "        \"limit_suggestions\": \"20\",\n",
    "        \"lang\"             : \"en\"\n",
    "    }\n",
    "\n",
    "    headers = {\n",
    "        \"X-RapidAPI-Key\" : rapid_key,\n",
    "        \"X-RapidAPI-Host\": host\n",
    "    }\n",
    "\n",
    "    response  = requests.get( base_url + search_ep, headers=headers, params=querystring)\n",
    "    json_resp = json.loads( response.content )\n",
    "    titles    = [ x['jawSummary']['title'] for x in json_resp['titles'] ]  ## json_resp['titles'][0]['jawSummary']['title']\n",
    "    \n",
    "    return titles"
   ]
  },
  {
   "cell_type": "code",
   "execution_count": 59,
   "metadata": {},
   "outputs": [],
   "source": [
    "titles = query_nflx_titles( \"stranger\" )"
   ]
  },
  {
   "cell_type": "code",
   "execution_count": 62,
   "metadata": {},
   "outputs": [
    {
     "name": "stdout",
     "output_type": "stream",
     "text": [
      "['Stranger Things', 'Hush', 'The End of the F***ing World', 'Never Have I Ever', 'The Umbrella Academy', 'The Witcher', 'Money Heist', 'Sex Education', 'Beyond Stranger Things', 'Rim of the World', 'The School for Good and Evil', 'Fate: The Winx Saga', 'Julie and the Phantoms', \"The Queen's Gambit\", 'Outer Banks', 'Locke & Key', 'Girl from Nowhere', 'I Am Not Okay With This', 'We Can Be Heroes', 'Feel the Beat', 'The Stranger', 'Nightbooks', 'Cobra Kai', 'Tall Girl', 'My Name', 'YES DAY', 'Prank Encounters', 'The Sea Beast', 'Ginny & Georgia', 'Squid Game', 'Your Place or Mine', 'Oddballs', 'Sweet Home', 'The Silent Sea', 'The Gray Man', 'Tall Girl 2', 'Sweet Tooth', 'Man Vs Bee', 'Wednesday', 'All of Us Are Dead', 'Boo, Bitch', 'Hellbound', 'Stay Close', 'Fear Street Part 1: 1994', 'Fear Street Part 2: 1978', 'Ivy + Bean', 'The Call', 'Two Distant Strangers', 'Love to Hate You', 'Unlocked']\n"
     ]
    }
   ],
   "source": [
    "print( titles )"
   ]
  },
  {
   "cell_type": "code",
   "execution_count": null,
   "metadata": {},
   "outputs": [],
   "source": []
  },
  {
   "cell_type": "code",
   "execution_count": null,
   "metadata": {},
   "outputs": [],
   "source": []
  },
  {
   "cell_type": "code",
   "execution_count": null,
   "metadata": {},
   "outputs": [],
   "source": []
  },
  {
   "cell_type": "code",
   "execution_count": null,
   "metadata": {},
   "outputs": [],
   "source": []
  },
  {
   "cell_type": "code",
   "execution_count": null,
   "metadata": {},
   "outputs": [],
   "source": []
  },
  {
   "cell_type": "code",
   "execution_count": null,
   "metadata": {},
   "outputs": [],
   "source": []
  },
  {
   "cell_type": "code",
   "execution_count": null,
   "metadata": {},
   "outputs": [],
   "source": []
  },
  {
   "cell_type": "code",
   "execution_count": null,
   "metadata": {},
   "outputs": [],
   "source": []
  }
 ],
 "metadata": {
  "kernelspec": {
   "display_name": "Python 3",
   "language": "python",
   "name": "python3"
  },
  "language_info": {
   "codemirror_mode": {
    "name": "ipython",
    "version": 3
   },
   "file_extension": ".py",
   "mimetype": "text/x-python",
   "name": "python",
   "nbconvert_exporter": "python",
   "pygments_lexer": "ipython3",
   "version": "3.7.0"
  }
 },
 "nbformat": 4,
 "nbformat_minor": 2
}
